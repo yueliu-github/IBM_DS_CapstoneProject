{
 "cells": [
  {
   "cell_type": "markdown",
   "id": "c96f9a30",
   "metadata": {},
   "source": [
    "# Python note"
   ]
  },
  {
   "cell_type": "markdown",
   "id": "43348fab",
   "metadata": {},
   "source": [
    "## 1.collections.deque \n",
    "### select last n items from list"
   ]
  },
  {
   "cell_type": "code",
   "execution_count": 10,
   "id": "792f1f8f",
   "metadata": {},
   "outputs": [],
   "source": [
    "ll=[1,2,3,4,5]\n",
    "n=3"
   ]
  },
  {
   "cell_type": "code",
   "execution_count": 13,
   "id": "65bf7df5",
   "metadata": {},
   "outputs": [
    {
     "data": {
      "text/plain": [
       "[5, 4, 3, 2, 1]"
      ]
     },
     "execution_count": 13,
     "metadata": {},
     "output_type": "execute_result"
    }
   ],
   "source": [
    "ll[-1:-n-1:-1]"
   ]
  },
  {
   "cell_type": "code",
   "execution_count": 16,
   "id": "30fe5886",
   "metadata": {},
   "outputs": [],
   "source": [
    "from collections import deque"
   ]
  },
  {
   "cell_type": "code",
   "execution_count": 17,
   "id": "cc66488c",
   "metadata": {},
   "outputs": [
    {
     "data": {
      "text/plain": [
       "deque([3, 4, 5], maxlen=3)"
      ]
     },
     "execution_count": 17,
     "metadata": {},
     "output_type": "execute_result"
    }
   ],
   "source": [
    "deque(ll,maxlen=3)"
   ]
  },
  {
   "cell_type": "markdown",
   "id": "c2a489a2",
   "metadata": {},
   "source": [
    "## 2.\n",
    "### find several largest in list"
   ]
  },
  {
   "cell_type": "code",
   "execution_count": 18,
   "id": "ab4e5cb6",
   "metadata": {},
   "outputs": [],
   "source": [
    "import heapq"
   ]
  },
  {
   "cell_type": "code",
   "execution_count": 21,
   "id": "8cc3c34d",
   "metadata": {},
   "outputs": [
    {
     "data": {
      "text/plain": [
       "[5, 4]"
      ]
     },
     "execution_count": 21,
     "metadata": {},
     "output_type": "execute_result"
    }
   ],
   "source": [
    "heapq.nlargest(2,ll)"
   ]
  },
  {
   "cell_type": "code",
   "execution_count": 20,
   "id": "2cbaf323",
   "metadata": {},
   "outputs": [
    {
     "data": {
      "text/plain": [
       "[1, 2, 3, 4, 5]"
      ]
     },
     "execution_count": 20,
     "metadata": {},
     "output_type": "execute_result"
    }
   ],
   "source": [
    "ll"
   ]
  },
  {
   "cell_type": "markdown",
   "id": "d7784172",
   "metadata": {},
   "source": [
    "## 3.dictionary \n",
    "### rank a dictionary (package)"
   ]
  },
  {
   "cell_type": "code",
   "execution_count": 23,
   "id": "8973b672",
   "metadata": {},
   "outputs": [],
   "source": [
    "from collections import OrderedDict"
   ]
  },
  {
   "cell_type": "code",
   "execution_count": 24,
   "id": "f0e7b5d5",
   "metadata": {},
   "outputs": [],
   "source": [
    "d=OrderedDict()\n",
    "d['Apr']=4\n",
    "d['Jun']=6\n",
    "d['Dec']=12\n",
    "d['Jan']=1"
   ]
  },
  {
   "cell_type": "code",
   "execution_count": 26,
   "id": "47c3c266",
   "metadata": {},
   "outputs": [
    {
     "data": {
      "text/plain": [
       "collections.OrderedDict"
      ]
     },
     "execution_count": 26,
     "metadata": {},
     "output_type": "execute_result"
    }
   ],
   "source": [
    "type(d)"
   ]
  },
  {
   "cell_type": "code",
   "execution_count": 30,
   "id": "9caf9d16",
   "metadata": {},
   "outputs": [
    {
     "name": "stdout",
     "output_type": "stream",
     "text": [
      "<zip object at 0x000002AD7F11FFC0>\n"
     ]
    }
   ],
   "source": [
    "print(zip(d))"
   ]
  },
  {
   "cell_type": "code",
   "execution_count": 31,
   "id": "5aeaff33",
   "metadata": {},
   "outputs": [],
   "source": [
    "n=zip(d)"
   ]
  },
  {
   "cell_type": "code",
   "execution_count": 32,
   "id": "6e1aeb90",
   "metadata": {},
   "outputs": [
    {
     "data": {
      "text/plain": [
       "<zip at 0x2ad7f1444c0>"
      ]
     },
     "execution_count": 32,
     "metadata": {},
     "output_type": "execute_result"
    }
   ],
   "source": [
    "n"
   ]
  },
  {
   "cell_type": "markdown",
   "id": "8e07f67b",
   "metadata": {},
   "source": [
    "### sort with zip"
   ]
  },
  {
   "cell_type": "code",
   "execution_count": 5,
   "id": "bd3cb354",
   "metadata": {},
   "outputs": [],
   "source": [
    "dd=dict()\n",
    "dd['Apr']=4\n",
    "dd['Jun']=6\n",
    "dd['Dec']=12\n",
    "dd['Jan']=1"
   ]
  },
  {
   "cell_type": "code",
   "execution_count": 6,
   "id": "2708a0ae",
   "metadata": {},
   "outputs": [
    {
     "data": {
      "text/plain": [
       "{'Apr': 4, 'Jun': 6, 'Dec': 12, 'Jan': 1}"
      ]
     },
     "execution_count": 6,
     "metadata": {},
     "output_type": "execute_result"
    }
   ],
   "source": [
    "dd"
   ]
  },
  {
   "cell_type": "code",
   "execution_count": 7,
   "id": "8e899d92",
   "metadata": {},
   "outputs": [],
   "source": [
    "new=sorted(zip(dd.values(),dd.keys()))"
   ]
  },
  {
   "cell_type": "code",
   "execution_count": 8,
   "id": "47559d82",
   "metadata": {},
   "outputs": [],
   "source": [
    "rnew=sorted(zip(dd.values(),dd.keys()),reverse=True)"
   ]
  },
  {
   "cell_type": "code",
   "execution_count": 10,
   "id": "714c5e45",
   "metadata": {},
   "outputs": [
    {
     "data": {
      "text/plain": [
       "list"
      ]
     },
     "execution_count": 10,
     "metadata": {},
     "output_type": "execute_result"
    }
   ],
   "source": [
    "type(rnew)"
   ]
  },
  {
   "cell_type": "code",
   "execution_count": 9,
   "id": "9cb80647",
   "metadata": {},
   "outputs": [
    {
     "data": {
      "text/plain": [
       "[(12, 'Dec'), (6, 'Jun'), (4, 'Apr'), (1, 'Jan')]"
      ]
     },
     "execution_count": 9,
     "metadata": {},
     "output_type": "execute_result"
    }
   ],
   "source": [
    "rnew"
   ]
  },
  {
   "cell_type": "code",
   "execution_count": 42,
   "id": "fdf39585",
   "metadata": {},
   "outputs": [
    {
     "data": {
      "text/plain": [
       "list"
      ]
     },
     "execution_count": 42,
     "metadata": {},
     "output_type": "execute_result"
    }
   ],
   "source": [
    "type(new)"
   ]
  },
  {
   "cell_type": "code",
   "execution_count": 43,
   "id": "470fa8cd",
   "metadata": {},
   "outputs": [
    {
     "data": {
      "text/plain": [
       "[(1, 'Jan'), (4, 'Apr'), (6, 'Jun'), (12, 'Dec')]"
      ]
     },
     "execution_count": 43,
     "metadata": {},
     "output_type": "execute_result"
    }
   ],
   "source": [
    "new"
   ]
  },
  {
   "cell_type": "markdown",
   "id": "ea7c584d",
   "metadata": {},
   "source": [
    "## 4. reference\n",
    "### a and b refer to the same reference, so one change the else also change. "
   ]
  },
  {
   "cell_type": "code",
   "execution_count": 1,
   "id": "944191a6",
   "metadata": {},
   "outputs": [
    {
     "name": "stdout",
     "output_type": "stream",
     "text": [
      "[1, 2, 3, 4, 6]\n",
      "[1, 2, 3, 4, 6]\n"
     ]
    }
   ],
   "source": [
    "a=[1,2,3,4]\n",
    "b=a\n",
    "b.append(6)\n",
    "print(a)\n",
    "print(b)"
   ]
  },
  {
   "cell_type": "markdown",
   "id": "02b1d01b",
   "metadata": {},
   "source": [
    "## 5. swap dictionary\n",
    "### %%%change key/value in dictionary%%%"
   ]
  },
  {
   "cell_type": "code",
   "execution_count": 2,
   "id": "03d49688",
   "metadata": {},
   "outputs": [
    {
     "name": "stdout",
     "output_type": "stream",
     "text": [
      "{'val1': 'key1', 'val2': 'key2', 'val3': 'key3'}\n"
     ]
    }
   ],
   "source": [
    "d = {'key1': 'val1', 'key2': 'val2', 'key3': 'val3'}\n",
    "\n",
    "d_swap = {v: k for k, v in d.items()}\n",
    "print(d_swap)\n",
    "# {'val1': 'key1', 'val2': 'key2', 'val3': 'key3'}"
   ]
  },
  {
   "cell_type": "markdown",
   "id": "70f248b0",
   "metadata": {},
   "source": [
    "### add dictionary value in append --- need to have   {aaa:[]} form"
   ]
  },
  {
   "cell_type": "code",
   "execution_count": 11,
   "id": "38592719",
   "metadata": {},
   "outputs": [
    {
     "name": "stdout",
     "output_type": "stream",
     "text": [
      "{332: ['low']}\n"
     ]
    }
   ],
   "source": [
    "ddd={332:[]}\n",
    "ddd[332].append('low')\n",
    "print(ddd)"
   ]
  },
  {
   "cell_type": "markdown",
   "id": "1e5cb513",
   "metadata": {},
   "source": [
    "## 6. slicing \n",
    "### A slice specifies a start index and an end index, and creates and returns a new list based on the indices. The indices are separated by a colon ':'. Keep in mind that the sub-list returned contains only the elements till (end index - 1). For example\n",
    "### Indexing /Slicing -\n",
    "\n",
    "[Start : stop : stepcount]"
   ]
  },
  {
   "cell_type": "code",
   "execution_count": 3,
   "id": "b91a1989",
   "metadata": {},
   "outputs": [
    {
     "data": {
      "text/plain": [
       "[67, 34]"
      ]
     },
     "execution_count": 3,
     "metadata": {},
     "output_type": "execute_result"
    }
   ],
   "source": [
    "l = [12,34,56,67,78] \n",
    "l[0:2] #[12,34] # step count by default is 1 \n",
    "l[0:4:2] #[12,56] # step count is 2 \n",
    "l[-5:-2] #[12,34,56] #step count is 1 \n",
    "l[-5::3] #[13,67] # step count is 3 \n",
    "l[::-1] #Reverse of list l \n",
    "l[-1::-1] #Reverse of list l \n",
    "l[-1:-4:-1]#[78,67,56] # step count is -1 \n",
    "l[-2::-2] #[67,34] "
   ]
  },
  {
   "cell_type": "code",
   "execution_count": 13,
   "id": "57869dab",
   "metadata": {},
   "outputs": [
    {
     "data": {
      "text/plain": [
       "[12, 34, 56, 67]"
      ]
     },
     "execution_count": 13,
     "metadata": {},
     "output_type": "execute_result"
    }
   ],
   "source": [
    "l = [12,34,56,67,78] \n",
    "l[0:4:1] #[12,56] # step count is 2 "
   ]
  },
  {
   "cell_type": "markdown",
   "id": "ffbd1cff",
   "metadata": {},
   "source": [
    "## 7. average word count"
   ]
  },
  {
   "cell_type": "code",
   "execution_count": 4,
   "id": "7a1d87ff",
   "metadata": {},
   "outputs": [
    {
     "name": "stdout",
     "output_type": "stream",
     "text": [
      "4.2\n",
      "4.08\n"
     ]
    }
   ],
   "source": [
    "# For a given sentence, return the average word length. \n",
    "# Note: Remember to remove punctuation first.\n",
    "\n",
    "sentence1 = \"Hi all, my name is Tom...I am originally from Australia.\"\n",
    "sentence2 = \"I need to work very hard to learn more about algorithms in Python!\"\n",
    "\n",
    "def solution(sentence):\n",
    "    for p in \"!?',;.\":\n",
    "        sentence = sentence.replace(p, '')\n",
    "    words = sentence.split()\n",
    "    return round(sum(len(word) for word in words)/len(words),2)\n",
    "    \n",
    "print(solution(sentence1))\n",
    "print(solution(sentence2))"
   ]
  },
  {
   "cell_type": "markdown",
   "id": "0faa27fa",
   "metadata": {},
   "source": [
    "## 8. monotonic array"
   ]
  },
  {
   "cell_type": "code",
   "execution_count": 5,
   "id": "cda65637",
   "metadata": {},
   "outputs": [
    {
     "name": "stdout",
     "output_type": "stream",
     "text": [
      "True\n",
      "False\n",
      "True\n"
     ]
    }
   ],
   "source": [
    "# Given an array of integers, determine whether the array is monotonic or not.\n",
    "A = [6, 5, 4, 4] \n",
    "B = [1,1,1,3,3,4,3,2,4,2]\n",
    "C = [1,1,2,3,7]\n",
    "\n",
    "def solution(nums): \n",
    "    return (all(nums[i] <= nums[i + 1] for i in range(len(nums) - 1)) or \n",
    "            all(nums[i] >= nums[i + 1] for i in range(len(nums) - 1))) \n",
    "  \n",
    "print(solution(A)) \n",
    "print(solution(B)) \n",
    "print(solution(C))"
   ]
  },
  {
   "cell_type": "markdown",
   "id": "2097d8f2",
   "metadata": {},
   "source": [
    "## 9. fill array blanks "
   ]
  },
  {
   "cell_type": "code",
   "execution_count": 14,
   "id": "488c250a",
   "metadata": {},
   "outputs": [
    {
     "data": {
      "text/plain": [
       "[1, 1, 2, 3, 3, 3, 5, 5]"
      ]
     },
     "execution_count": 14,
     "metadata": {},
     "output_type": "execute_result"
    }
   ],
   "source": [
    "# Given an array containing None values fill in the None values with most recent \n",
    "# non None value in the array \n",
    "array1 = [1,None,2,3,None,None,5,None]\n",
    "\n",
    "def solution(array):\n",
    "    valid = 0            \n",
    "    res = []                 \n",
    "    for i in array1: \n",
    "        if i is not None:    \n",
    "            res.append(i)\n",
    "            valid = i\n",
    "        else:\n",
    "            res.append(valid)\n",
    "    return res\n",
    "\n",
    "solution(array1)"
   ]
  },
  {
   "cell_type": "markdown",
   "id": "e004937e",
   "metadata": {},
   "source": [
    "## 9. Set opperator\n",
    "### check the list\n",
    "& \tAND\t      Sets each bit to 1 if both bits are 1\tx & y\t\n",
    "|\tOR\t      Sets each bit to 1 if one of two bits is 1\tx | y\t\n",
    "^\tXOR\t      Sets each bit to 1 if only one of two bits is 1\tx ^ y\t\n",
    "~\tNOT\t      Inverts all the bits\t~x\t\n",
    "<<\tZero fill left shift\t    Shift left by pushing zeros in from the right and let the leftmost bits fall off\tx << 2\t\n",
    "'>>\tSigned right shift\t        Shift right by pushing copies of the leftmost bit in from the left, and let the rightmost bits fall off\tx >> 2"
   ]
  },
  {
   "cell_type": "code",
   "execution_count": 8,
   "id": "270ee5f2",
   "metadata": {},
   "outputs": [
    {
     "name": "stdout",
     "output_type": "stream",
     "text": [
      "(['The', 'We', 'a', 'are', 'by', 'heavy', 'hit', 'in', 'meet', 'our', 'pleased', 'storm', 'to', 'was', 'you'], ['city', 'really'])\n"
     ]
    }
   ],
   "source": [
    "#Given two sentences, return an array that has the words that appear in one sentence and not\n",
    "#the other and an array with the words in common. \n",
    "\n",
    "sentence1 = 'We are really pleased to meet you in our city'\n",
    "sentence2 = 'The city was hit by a really heavy storm'\n",
    "\n",
    "def solution(sentence1, sentence2):\n",
    "    set1 = set(sentence1.split())\n",
    "    set2 = set(sentence2.split())\n",
    "    \n",
    "    return sorted(list(set1^set2)), sorted(list(set1&set2)) # ^ A.symmetric_difference(B), & A.intersection(B)\n",
    "\n",
    "print(solution(sentence1, sentence2))"
   ]
  },
  {
   "cell_type": "markdown",
   "id": "e66cb789",
   "metadata": {},
   "source": [
    "## 10. prime number "
   ]
  },
  {
   "cell_type": "code",
   "execution_count": 9,
   "id": "5eb57e5d",
   "metadata": {},
   "outputs": [
    {
     "data": {
      "text/plain": [
       "[2, 3, 5, 7, 11, 13, 17, 19, 23, 29, 31]"
      ]
     },
     "execution_count": 9,
     "metadata": {},
     "output_type": "execute_result"
    }
   ],
   "source": [
    "# Given k numbers which are less than n, return the set of prime number among them\n",
    "# Note: The task is to write a program to print all Prime numbers in an Interval.\n",
    "# Definition: A prime number is a natural number greater than 1 that has no positive divisors other than 1 and itself. \n",
    "\n",
    "n = 35\n",
    "def solution(n):\n",
    "    prime_nums = []\n",
    "    for num in range(n):\n",
    "        if num > 1: # all prime numbers are greater than 1\n",
    "            for i in range(2, num):\n",
    "                if (num % i) == 0: # if the modulus == 0 is means that the number can be divided by a number preceding it\n",
    "                    break\n",
    "            else:\n",
    "                prime_nums.append(num)\n",
    "    return prime_nums\n",
    "solution(n)"
   ]
  },
  {
   "cell_type": "markdown",
   "id": "e19eedd8",
   "metadata": {},
   "source": [
    "## 11. filter \n",
    "### get key from value in dictionary"
   ]
  },
  {
   "cell_type": "code",
   "execution_count": 1,
   "id": "6b64c9d5",
   "metadata": {},
   "outputs": [],
   "source": [
    "d = {'key1': 'val1', 'key2': 'val2', 'key3': 'val3'}"
   ]
  },
  {
   "cell_type": "code",
   "execution_count": 2,
   "id": "36db22bb",
   "metadata": {},
   "outputs": [
    {
     "data": {
      "text/plain": [
       "filter"
      ]
     },
     "execution_count": 2,
     "metadata": {},
     "output_type": "execute_result"
    }
   ],
   "source": [
    "type(filter(lambda x:d[x]=='val1',d))"
   ]
  },
  {
   "cell_type": "code",
   "execution_count": 4,
   "id": "a846b567",
   "metadata": {},
   "outputs": [
    {
     "data": {
      "text/plain": [
       "['key1']"
      ]
     },
     "execution_count": 4,
     "metadata": {},
     "output_type": "execute_result"
    }
   ],
   "source": [
    "list(filter(lambda x:d[x]=='val1',d))"
   ]
  },
  {
   "cell_type": "markdown",
   "id": "83bcb20b",
   "metadata": {},
   "source": [
    "## 12. find least common multiple"
   ]
  },
  {
   "cell_type": "code",
   "execution_count": 1,
   "id": "b8138c6c",
   "metadata": {},
   "outputs": [
    {
     "name": "stdout",
     "output_type": "stream",
     "text": [
      "36\n"
     ]
    }
   ],
   "source": [
    "def find_lcm(num1, num2):\n",
    "    if num1 > num2:\n",
    "        greater = num1\n",
    "    else:\n",
    "        greater = num2\n",
    "\n",
    "    while True:\n",
    "        if greater % num1 == 0 and greater % num2 == 0:\n",
    "            lcm = greater\n",
    "            break\n",
    "        greater += 1\n",
    "    \n",
    "    return lcm\n",
    "\n",
    "# example usage\n",
    "num1 = 12\n",
    "num2 = 18\n",
    "print(find_lcm(num1, num2))  # output: 36\n"
   ]
  },
  {
   "cell_type": "markdown",
   "id": "dbeb316d",
   "metadata": {},
   "source": [
    "## 13. longest prefix\n",
    "#### should be correct, keep returning warnings"
   ]
  },
  {
   "cell_type": "code",
   "execution_count": 8,
   "id": "c79c85c8",
   "metadata": {},
   "outputs": [],
   "source": [
    "\n",
    "    def longestCommonPrefix(strs: list[str]) -> str:\n",
    "        dic={}\n",
    "        for i in range(2,8):\n",
    "            pre=strs[0][0:i]\n",
    "            dic[i]=\"\"\n",
    "            for j in range(0,len(strs)):\n",
    "                if strs[j][0:i]!=pre:\n",
    "                    dic[i]=\"\"\n",
    "                    break;\n",
    "                elif strs[j][0:i]==pre:\n",
    "                    dic[i]=pre\n",
    "        res=\"\"\n",
    "        for k in dic.keys():\n",
    "            if dic[k]!=\"\" and dic[k+1]==\"\":\n",
    "                res=dic[k]\n",
    "            \n",
    "        return res"
   ]
  },
  {
   "cell_type": "code",
   "execution_count": 9,
   "id": "508b3927",
   "metadata": {},
   "outputs": [
    {
     "data": {
      "text/plain": [
       "'fuck'"
      ]
     },
     "execution_count": 9,
     "metadata": {},
     "output_type": "execute_result"
    }
   ],
   "source": [
    "longestCommonPrefix(['fuckk','fucker','fuckable','fuckiii','fuckluy'])"
   ]
  },
  {
   "cell_type": "markdown",
   "id": "4d4e63c0",
   "metadata": {},
   "source": [
    "## 14. class\n"
   ]
  },
  {
   "cell_type": "markdown",
   "id": "94cb7f9f",
   "metadata": {},
   "source": [
    "### object=instance, can have many methods, init-default, call as below."
   ]
  },
  {
   "cell_type": "code",
   "execution_count": 20,
   "id": "9ed2987b",
   "metadata": {},
   "outputs": [],
   "source": [
    "class Dog:\n",
    "    def __init__(self,name,breed,age,tired):\n",
    "        self.Name = name\n",
    "        self.Breed = breed\n",
    "        self.Age = age\n",
    "        self.Tired = tired\n",
    "    def __repr__(self):\n",
    "        return \"Name: {}, Breed: {}, Age: {}\".format(self.Name,\n",
    "                                           self.Breed,self.Age) \n",
    "    def Sleep(self):\n",
    "        if self.Tired==True:\n",
    "            return 'I will sleep'\n",
    "        else:\n",
    "            return \"I don't want to sleep\""
   ]
  },
  {
   "cell_type": "code",
   "execution_count": 21,
   "id": "3e238021",
   "metadata": {},
   "outputs": [
    {
     "name": "stdout",
     "output_type": "stream",
     "text": [
      "I don't want to sleep\n"
     ]
    }
   ],
   "source": [
    "jack = Dog('Jack','Husky',5,'GG')\n",
    "print(jack.Sleep())"
   ]
  },
  {
   "cell_type": "code",
   "execution_count": 22,
   "id": "ba339a77",
   "metadata": {},
   "outputs": [
    {
     "data": {
      "text/plain": [
       "\"I don't want to sleep\""
      ]
     },
     "execution_count": 22,
     "metadata": {},
     "output_type": "execute_result"
    }
   ],
   "source": [
    "jack.Sleep()"
   ]
  },
  {
   "cell_type": "code",
   "execution_count": 23,
   "id": "eeadb68e",
   "metadata": {},
   "outputs": [
    {
     "data": {
      "text/plain": [
       "'Name: Jack, Breed: Husky, Age: 5'"
      ]
     },
     "execution_count": 23,
     "metadata": {},
     "output_type": "execute_result"
    }
   ],
   "source": [
    "repr(jack)"
   ]
  },
  {
   "cell_type": "markdown",
   "id": "58971d2f",
   "metadata": {},
   "source": [
    "## 15. using [:] to insert value into list"
   ]
  },
  {
   "cell_type": "code",
   "execution_count": 25,
   "id": "8666ff9a",
   "metadata": {},
   "outputs": [
    {
     "data": {
      "text/plain": [
       "[1, 2, 3, 4, 5]"
      ]
     },
     "execution_count": 25,
     "metadata": {},
     "output_type": "execute_result"
    }
   ],
   "source": [
    "ll=[1,1,1,1,2,3,4,5,5]\n",
    "nums=[6,6,6]\n",
    "nums[:]=set(sorted(ll))\n",
    "nums"
   ]
  },
  {
   "cell_type": "markdown",
   "id": "002c47df",
   "metadata": {},
   "source": [
    "## 16. mapping"
   ]
  },
  {
   "cell_type": "markdown",
   "id": "8f1c248e",
   "metadata": {},
   "source": [
    "#### map(function, iterable, ...)\n",
    "#### Python 2.x 返回列表。\n",
    "#### Python 3.x 返回迭代器。"
   ]
  },
  {
   "cell_type": "code",
   "execution_count": 3,
   "id": "b529ad6b",
   "metadata": {},
   "outputs": [
    {
     "data": {
      "text/plain": [
       "[1, 4, 9, 16, 25]"
      ]
     },
     "execution_count": 3,
     "metadata": {},
     "output_type": "execute_result"
    }
   ],
   "source": [
    "def square(x) :         # 计算平方数\n",
    "    return x ** 2\n",
    "   # 返回迭代器\n",
    "list(map(square, [1,2,3,4,5]))   # 使用 list() 转换为列表\n",
    "\n",
    "list(map(lambda x: x ** 2, [1, 2, 3, 4, 5]))   # 使用 lambda 匿名函数\n"
   ]
  },
  {
   "cell_type": "markdown",
   "id": "7f727d87",
   "metadata": {},
   "source": [
    "## 17. Error handling"
   ]
  },
  {
   "cell_type": "code",
   "execution_count": 5,
   "id": "5ab9e91d",
   "metadata": {},
   "outputs": [
    {
     "name": "stdout",
     "output_type": "stream",
     "text": [
      "try...\n",
      "ZeroDivisionError: division by zero\n",
      "finally...\n",
      "END\n"
     ]
    }
   ],
   "source": [
    "try:\n",
    "    print('try...')\n",
    "    r = 10 / int('0')\n",
    "    print('result:', r)\n",
    "except ValueError as e:\n",
    "    print('ValueError:', e)\n",
    "except ZeroDivisionError as e:\n",
    "    print('ZeroDivisionError:', e)\n",
    "else:\n",
    "    print('no error!')\n",
    "finally:\n",
    "    print('finally...')\n",
    "print('END')"
   ]
  },
  {
   "cell_type": "markdown",
   "id": "b26c1f7e",
   "metadata": {},
   "source": [
    "### for general exception"
   ]
  },
  {
   "cell_type": "code",
   "execution_count": 27,
   "id": "e459a2e4",
   "metadata": {},
   "outputs": [
    {
     "name": "stdout",
     "output_type": "stream",
     "text": [
      "An exception of type NameError occurred. Arguments:\n",
      "(\"name 'someFunction' is not defined\",)\n"
     ]
    }
   ],
   "source": [
    "try:\n",
    "    someFunction()\n",
    "except Exception as ex:\n",
    "    template = \"An exception of type {0} occurred. Arguments:\\n{1!r}\"\n",
    "    message = template.format(type(ex).__name__, ex.args)\n",
    "    print(message)"
   ]
  },
  {
   "cell_type": "code",
   "execution_count": null,
   "id": "15d57776",
   "metadata": {},
   "outputs": [],
   "source": []
  }
 ],
 "metadata": {
  "kernelspec": {
   "display_name": "Python 3 (ipykernel)",
   "language": "python",
   "name": "python3"
  },
  "language_info": {
   "codemirror_mode": {
    "name": "ipython",
    "version": 3
   },
   "file_extension": ".py",
   "mimetype": "text/x-python",
   "name": "python",
   "nbconvert_exporter": "python",
   "pygments_lexer": "ipython3",
   "version": "3.11.0"
  }
 },
 "nbformat": 4,
 "nbformat_minor": 5
}
